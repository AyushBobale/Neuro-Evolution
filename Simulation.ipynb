{
  "nbformat": 4,
  "nbformat_minor": 0,
  "metadata": {
    "colab": {
      "name": "Simulation.ipynb",
      "provenance": [],
      "collapsed_sections": []
    },
    "kernelspec": {
      "name": "python3",
      "display_name": "Python 3"
    },
    "language_info": {
      "name": "python"
    }
  },
  "cells": [
    {
      "cell_type": "markdown",
      "source": [
        "#Evolutionary simulation\n",
        "---\n",
        "\n",
        "* environmnet is a plane\n",
        "* the environment generates energy randoly each day\n",
        "* creatures eat food to replnish energy\n",
        "* to do actions creature spends energy\n",
        "* creatures have traits\n",
        "> * speed higher the speed more the energy consumpion but better chances of getting the food\n",
        "> * Bigger size means you can eat other smaller creatures but at the cost of enegy\n",
        "> * sense trait lets you sense your surroundings better at the cost of energy\n",
        "\n",
        "#Environment Sensing [Input layer]\n",
        "---\n",
        "* Food Location\n",
        "* Preadator Location\n",
        "\n",
        "#Memory [State of the creature itself stored as a table]\n",
        "---\n",
        "* Energy\n",
        "* Size\n",
        "* Speed\n",
        "* Mutation factor\n",
        "\n",
        "#Actions [Output Layer]\n",
        "---\n",
        "* Up\n",
        "* Down\n",
        "* Left\n",
        "* Right\n",
        "\n",
        "---\n",
        "#RT NEAT\n",
        "---\n",
        "\n",
        "\n"
      ],
      "metadata": {
        "id": "KOL1dDCb8z0b"
      }
    },
    {
      "cell_type": "code",
      "execution_count": null,
      "metadata": {
        "id": "J2Mh0bqd8xF4"
      },
      "outputs": [],
      "source": [
        ""
      ]
    }
  ]
}